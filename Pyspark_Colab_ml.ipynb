{
  "nbformat": 4,
  "nbformat_minor": 0,
  "metadata": {
    "colab": {
      "name": "Pyspark_Colab_ml.ipynb",
      "provenance": [],
      "collapsed_sections": [],
      "include_colab_link": true
    },
    "kernelspec": {
      "name": "python3",
      "display_name": "Python 3"
    }
  },
  "cells": [
    {
      "cell_type": "markdown",
      "metadata": {
        "id": "view-in-github",
        "colab_type": "text"
      },
      "source": [
        "<a href=\"https://colab.research.google.com/github/miingaluque/hello-world/blob/main/Pyspark_Colab_ml.ipynb\" target=\"_parent\"><img src=\"https://colab.research.google.com/assets/colab-badge.svg\" alt=\"Open In Colab\"/></a>"
      ]
    },
    {
      "cell_type": "markdown",
      "metadata": {
        "id": "ETaCeH1KAcoL"
      },
      "source": [
        "# PySpark en Google Colab Automatico\n"
      ]
    },
    {
      "cell_type": "markdown",
      "metadata": {
        "id": "gkGJJVgXBwMa"
      },
      "source": [
        "## Instalacion de Java\n",
        "Google Colaboratory funciona en un ambiente linux, por lo tanto se pueden usar comandos shell de linux antecedidos del caracter '!'"
      ]
    },
    {
      "cell_type": "code",
      "metadata": {
        "id": "Fl5KY6D0BH1e"
      },
      "source": [
        "# verificar si ya esta isntalado en \"/usr/lib/jvm/\" , si esta instalado omitir esta linea\n",
        "#!apt-get install openjdk-8-jdk-headless -qq > /dev/null"
      ],
      "execution_count": null,
      "outputs": []
    },
    {
      "cell_type": "markdown",
      "metadata": {
        "id": "1dHLH3E1BOEk"
      },
      "source": [
        "## Instalacion de Spark\n",
        "\n",
        "Obtener automaticamente la ultima version de spark de "
      ]
    },
    {
      "cell_type": "code",
      "metadata": {
        "id": "XtThPPGaBYZL"
      },
      "source": [
        "from bs4 import BeautifulSoup\n",
        "import requests"
      ],
      "execution_count": null,
      "outputs": []
    },
    {
      "cell_type": "code",
      "metadata": {
        "id": "sHfbF3J7CQ8Z"
      },
      "source": [
        "#Obtener las versiones de spark la pagina web\n",
        "url = 'https://downloads.apache.org/spark/' \n",
        "r = requests.get(url)\n",
        "html_doc = r.text\n",
        "soup = BeautifulSoup(html_doc)"
      ],
      "execution_count": null,
      "outputs": []
    },
    {
      "cell_type": "code",
      "metadata": {
        "id": "WnZUvd9XCgqD",
        "outputId": "59487349-4791-4b1b-bdd8-6100ce3833cf",
        "colab": {
          "base_uri": "https://localhost:8080/"
        }
      },
      "source": [
        "# leer la pagina web y obtener las versiones de spark disponibles\n",
        "link_files = []\n",
        "for link in soup.find_all('a'):\n",
        "  link_files.append(link.get('href'))\n",
        "spark_link = [x for x in link_files if 'spark' in x]  \n",
        "print(spark_link)"
      ],
      "execution_count": null,
      "outputs": [
        {
          "output_type": "stream",
          "name": "stdout",
          "text": [
            "['spark-2.4.8/', 'spark-3.0.3/', 'spark-3.1.2/', 'spark-3.2.1/']\n"
          ]
        }
      ]
    },
    {
      "cell_type": "markdown",
      "metadata": {
        "id": "eciL-34xEx8u"
      },
      "source": [
        "La version a usar seran las superiores a spark-2.3.4  y menores a spark-3.0.0\n",
        "\n",
        "obtener la version y eliminar el caracter '/' del final"
      ]
    },
    {
      "cell_type": "code",
      "metadata": {
        "id": "LY9Fug2LDcMg",
        "outputId": "9e5ca3a1-e447-47d3-9d23-47d513676a76",
        "colab": {
          "base_uri": "https://localhost:8080/"
        }
      },
      "source": [
        "ver_spark = spark_link[1][:-1] # obtener la version y eliminar el caracter '/' del final\n",
        "print(ver_spark)"
      ],
      "execution_count": null,
      "outputs": [
        {
          "output_type": "stream",
          "name": "stdout",
          "text": [
            "spark-3.0.3\n"
          ]
        }
      ]
    },
    {
      "cell_type": "code",
      "metadata": {
        "id": "wA3-nxeNFIYB",
        "outputId": "631a24bf-9387-4a95-d3d6-e376d1ed7a39",
        "colab": {
          "base_uri": "https://localhost:8080/"
        }
      },
      "source": [
        "import os # libreria de manejo del sistema operativo\n",
        "#instalar automaticamente la version deseadda de spark\n",
        "# Verificar la ruta de descarga por actualizaciones\n",
        "os.system(f\"wget -q https://downloads.apache.org/spark/{ver_spark}/{ver_spark}-bin-hadoop2.7.tgz\")\n",
        "os.system(f\"tar xf {ver_spark}-bin-hadoop2.7.tgz\")\n",
        "# instalar pyspark\n",
        "!pip install -q pyspark"
      ],
      "execution_count": null,
      "outputs": [
        {
          "output_type": "stream",
          "name": "stdout",
          "text": [
            "\u001b[K     |████████████████████████████████| 281.4 MB 36 kB/s \n",
            "\u001b[K     |████████████████████████████████| 198 kB 52.5 MB/s \n",
            "\u001b[?25h  Building wheel for pyspark (setup.py) ... \u001b[?25l\u001b[?25hdone\n"
          ]
        }
      ]
    },
    {
      "cell_type": "markdown",
      "metadata": {
        "id": "-5zJWYOBHX37"
      },
      "source": [
        "## Definir variables de entorno"
      ]
    },
    {
      "cell_type": "code",
      "metadata": {
        "id": "Q0tFuu8VHWcm"
      },
      "source": [
        "import os\n",
        "os.environ[\"JAVA_HOME\"] = \"/usr/lib/jvm/java-11-openjdk-amd64\"\n",
        "os.environ[\"SPARK_HOME\"] = f\"/content/{ver_spark}-bin-hadoop2.7\""
      ],
      "execution_count": null,
      "outputs": []
    },
    {
      "cell_type": "code",
      "source": [
        "!pip install findspark\n",
        "import findspark\n",
        "findspark.init() "
      ],
      "metadata": {
        "colab": {
          "base_uri": "https://localhost:8080/"
        },
        "id": "IUU6XTtdm3uQ",
        "outputId": "23a11f11-8196-487c-8082-23075eeb9eaa"
      },
      "execution_count": null,
      "outputs": [
        {
          "output_type": "stream",
          "name": "stdout",
          "text": [
            "Collecting findspark\n",
            "  Downloading findspark-2.0.0-py2.py3-none-any.whl (4.4 kB)\n",
            "Installing collected packages: findspark\n",
            "Successfully installed findspark-2.0.0\n"
          ]
        }
      ]
    },
    {
      "cell_type": "markdown",
      "metadata": {
        "id": "BCGyEt25Hh-P"
      },
      "source": [
        "# Cargar pyspark en el sistema"
      ]
    },
    {
      "cell_type": "code",
      "metadata": {
        "id": "EtzN28KKIY82",
        "outputId": "4efd7fc6-b656-49ac-b45c-d75b6a938203",
        "colab": {
          "base_uri": "https://localhost:8080/",
          "height": 219
        }
      },
      "source": [
        "from pyspark.sql import SparkSession\n",
        "spark = SparkSession.builder.appName(\"Test_spark\").master(\"local[*]\").getOrCreate()\n",
        "spark"
      ],
      "execution_count": null,
      "outputs": [
        {
          "output_type": "execute_result",
          "data": {
            "text/html": [
              "\n",
              "            <div>\n",
              "                <p><b>SparkSession - in-memory</b></p>\n",
              "                \n",
              "        <div>\n",
              "            <p><b>SparkContext</b></p>\n",
              "\n",
              "            <p><a href=\"http://ca7a724225ac:4040\">Spark UI</a></p>\n",
              "\n",
              "            <dl>\n",
              "              <dt>Version</dt>\n",
              "                <dd><code>v3.2.1</code></dd>\n",
              "              <dt>Master</dt>\n",
              "                <dd><code>local[*]</code></dd>\n",
              "              <dt>AppName</dt>\n",
              "                <dd><code>Test_spark</code></dd>\n",
              "            </dl>\n",
              "        </div>\n",
              "        \n",
              "            </div>\n",
              "        "
            ],
            "text/plain": [
              "<pyspark.sql.session.SparkSession at 0x7fa6be17cf90>"
            ]
          },
          "metadata": {},
          "execution_count": 10
        }
      ]
    },
    {
      "cell_type": "markdown",
      "metadata": {
        "id": "IImWwtaEKHXB"
      },
      "source": [
        "# Ejemplo de Uso de pyspark\n",
        "\n",
        "Leer archivo de prueba"
      ]
    },
    {
      "cell_type": "code",
      "metadata": {
        "id": "J-2gRfS-KQyF"
      },
      "source": [
        "CV_data = spark.read.load('churn-bigml-80.csv', \n",
        "                          format='com.databricks.spark.csv', \n",
        "                          header='true', \n",
        "                          inferSchema='true')"
      ],
      "execution_count": null,
      "outputs": []
    },
    {
      "cell_type": "code",
      "metadata": {
        "id": "VrbNpoUCNYN8",
        "outputId": "06f58af2-8847-42d9-c50e-3880e35aff9f",
        "colab": {
          "base_uri": "https://localhost:8080/"
        }
      },
      "source": [
        "CV_data.cache()\n",
        "CV_data.printSchema()"
      ],
      "execution_count": null,
      "outputs": [
        {
          "output_type": "stream",
          "name": "stdout",
          "text": [
            "root\n",
            " |-- State: string (nullable = true)\n",
            " |-- Account length: integer (nullable = true)\n",
            " |-- Area code: integer (nullable = true)\n",
            " |-- International plan: string (nullable = true)\n",
            " |-- Voice mail plan: string (nullable = true)\n",
            " |-- Number vmail messages: integer (nullable = true)\n",
            " |-- Total day minutes: double (nullable = true)\n",
            " |-- Total day calls: integer (nullable = true)\n",
            " |-- Total day charge: double (nullable = true)\n",
            " |-- Total eve minutes: double (nullable = true)\n",
            " |-- Total eve calls: integer (nullable = true)\n",
            " |-- Total eve charge: double (nullable = true)\n",
            " |-- Total night minutes: double (nullable = true)\n",
            " |-- Total night calls: integer (nullable = true)\n",
            " |-- Total night charge: double (nullable = true)\n",
            " |-- Total intl minutes: double (nullable = true)\n",
            " |-- Total intl calls: integer (nullable = true)\n",
            " |-- Total intl charge: double (nullable = true)\n",
            " |-- Customer service calls: integer (nullable = true)\n",
            " |-- Churn: boolean (nullable = true)\n",
            "\n"
          ]
        }
      ]
    },
    {
      "cell_type": "code",
      "metadata": {
        "id": "6Sb_is4QLeB3",
        "colab": {
          "base_uri": "https://localhost:8080/"
        },
        "outputId": "1bbd7b40-df41-490c-b7b2-2818f784b2b8"
      },
      "source": [
        "# Numero de observaciones\n",
        "CV_data.count()"
      ],
      "execution_count": null,
      "outputs": [
        {
          "output_type": "execute_result",
          "data": {
            "text/plain": [
              "2666"
            ]
          },
          "metadata": {},
          "execution_count": 14
        }
      ]
    },
    {
      "cell_type": "code",
      "metadata": {
        "id": "dLa8YbIPMWhj",
        "colab": {
          "base_uri": "https://localhost:8080/"
        },
        "outputId": "d7eb196d-b8e2-4109-9179-4ab038a55a22"
      },
      "source": [
        "# La data fue correctamenta cargada\n",
        "CV_data.take(5)"
      ],
      "execution_count": null,
      "outputs": [
        {
          "output_type": "execute_result",
          "data": {
            "text/plain": [
              "[Row(State='KS', Account length=128, Area code=415, International plan='No', Voice mail plan='Yes', Number vmail messages=25, Total day minutes=265.1, Total day calls=110, Total day charge=45.07, Total eve minutes=197.4, Total eve calls=99, Total eve charge=16.78, Total night minutes=244.7, Total night calls=91, Total night charge=11.01, Total intl minutes=10.0, Total intl calls=3, Total intl charge=2.7, Customer service calls=1, Churn=False),\n",
              " Row(State='OH', Account length=107, Area code=415, International plan='No', Voice mail plan='Yes', Number vmail messages=26, Total day minutes=161.6, Total day calls=123, Total day charge=27.47, Total eve minutes=195.5, Total eve calls=103, Total eve charge=16.62, Total night minutes=254.4, Total night calls=103, Total night charge=11.45, Total intl minutes=13.7, Total intl calls=3, Total intl charge=3.7, Customer service calls=1, Churn=False),\n",
              " Row(State='NJ', Account length=137, Area code=415, International plan='No', Voice mail plan='No', Number vmail messages=0, Total day minutes=243.4, Total day calls=114, Total day charge=41.38, Total eve minutes=121.2, Total eve calls=110, Total eve charge=10.3, Total night minutes=162.6, Total night calls=104, Total night charge=7.32, Total intl minutes=12.2, Total intl calls=5, Total intl charge=3.29, Customer service calls=0, Churn=False),\n",
              " Row(State='OH', Account length=84, Area code=408, International plan='Yes', Voice mail plan='No', Number vmail messages=0, Total day minutes=299.4, Total day calls=71, Total day charge=50.9, Total eve minutes=61.9, Total eve calls=88, Total eve charge=5.26, Total night minutes=196.9, Total night calls=89, Total night charge=8.86, Total intl minutes=6.6, Total intl calls=7, Total intl charge=1.78, Customer service calls=2, Churn=False),\n",
              " Row(State='OK', Account length=75, Area code=415, International plan='Yes', Voice mail plan='No', Number vmail messages=0, Total day minutes=166.7, Total day calls=113, Total day charge=28.34, Total eve minutes=148.3, Total eve calls=122, Total eve charge=12.61, Total night minutes=186.9, Total night calls=121, Total night charge=8.41, Total intl minutes=10.1, Total intl calls=3, Total intl charge=2.73, Customer service calls=3, Churn=False)]"
            ]
          },
          "metadata": {},
          "execution_count": 15
        }
      ]
    },
    {
      "cell_type": "code",
      "metadata": {
        "id": "sVUfc5nyLpxp",
        "colab": {
          "base_uri": "https://localhost:8080/",
          "height": 462
        },
        "outputId": "8a8d1172-9294-424a-f29f-5286cf6c9deb"
      },
      "source": [
        "# Usamos pandas para mostrar los datos cargados con spark\n",
        "import pandas as pd\n",
        "pd.DataFrame(CV_data.take(50)[15:25], columns=CV_data.columns)"
      ],
      "execution_count": null,
      "outputs": [
        {
          "output_type": "execute_result",
          "data": {
            "text/html": [
              "\n",
              "  <div id=\"df-591b2be8-d379-4d26-b5fa-898827050f72\">\n",
              "    <div class=\"colab-df-container\">\n",
              "      <div>\n",
              "<style scoped>\n",
              "    .dataframe tbody tr th:only-of-type {\n",
              "        vertical-align: middle;\n",
              "    }\n",
              "\n",
              "    .dataframe tbody tr th {\n",
              "        vertical-align: top;\n",
              "    }\n",
              "\n",
              "    .dataframe thead th {\n",
              "        text-align: right;\n",
              "    }\n",
              "</style>\n",
              "<table border=\"1\" class=\"dataframe\">\n",
              "  <thead>\n",
              "    <tr style=\"text-align: right;\">\n",
              "      <th></th>\n",
              "      <th>State</th>\n",
              "      <th>Account length</th>\n",
              "      <th>Area code</th>\n",
              "      <th>International plan</th>\n",
              "      <th>Voice mail plan</th>\n",
              "      <th>Number vmail messages</th>\n",
              "      <th>Total day minutes</th>\n",
              "      <th>Total day calls</th>\n",
              "      <th>Total day charge</th>\n",
              "      <th>Total eve minutes</th>\n",
              "      <th>Total eve calls</th>\n",
              "      <th>Total eve charge</th>\n",
              "      <th>Total night minutes</th>\n",
              "      <th>Total night calls</th>\n",
              "      <th>Total night charge</th>\n",
              "      <th>Total intl minutes</th>\n",
              "      <th>Total intl calls</th>\n",
              "      <th>Total intl charge</th>\n",
              "      <th>Customer service calls</th>\n",
              "      <th>Churn</th>\n",
              "    </tr>\n",
              "  </thead>\n",
              "  <tbody>\n",
              "    <tr>\n",
              "      <th>0</th>\n",
              "      <td>VA</td>\n",
              "      <td>76</td>\n",
              "      <td>510</td>\n",
              "      <td>No</td>\n",
              "      <td>Yes</td>\n",
              "      <td>33</td>\n",
              "      <td>189.7</td>\n",
              "      <td>66</td>\n",
              "      <td>32.25</td>\n",
              "      <td>212.8</td>\n",
              "      <td>65</td>\n",
              "      <td>18.09</td>\n",
              "      <td>165.7</td>\n",
              "      <td>108</td>\n",
              "      <td>7.46</td>\n",
              "      <td>10.0</td>\n",
              "      <td>5</td>\n",
              "      <td>2.70</td>\n",
              "      <td>1</td>\n",
              "      <td>False</td>\n",
              "    </tr>\n",
              "    <tr>\n",
              "      <th>1</th>\n",
              "      <td>TX</td>\n",
              "      <td>73</td>\n",
              "      <td>415</td>\n",
              "      <td>No</td>\n",
              "      <td>No</td>\n",
              "      <td>0</td>\n",
              "      <td>224.4</td>\n",
              "      <td>90</td>\n",
              "      <td>38.15</td>\n",
              "      <td>159.5</td>\n",
              "      <td>88</td>\n",
              "      <td>13.56</td>\n",
              "      <td>192.8</td>\n",
              "      <td>74</td>\n",
              "      <td>8.68</td>\n",
              "      <td>13.0</td>\n",
              "      <td>2</td>\n",
              "      <td>3.51</td>\n",
              "      <td>1</td>\n",
              "      <td>False</td>\n",
              "    </tr>\n",
              "    <tr>\n",
              "      <th>2</th>\n",
              "      <td>FL</td>\n",
              "      <td>147</td>\n",
              "      <td>415</td>\n",
              "      <td>No</td>\n",
              "      <td>No</td>\n",
              "      <td>0</td>\n",
              "      <td>155.1</td>\n",
              "      <td>117</td>\n",
              "      <td>26.37</td>\n",
              "      <td>239.7</td>\n",
              "      <td>93</td>\n",
              "      <td>20.37</td>\n",
              "      <td>208.8</td>\n",
              "      <td>133</td>\n",
              "      <td>9.40</td>\n",
              "      <td>10.6</td>\n",
              "      <td>4</td>\n",
              "      <td>2.86</td>\n",
              "      <td>0</td>\n",
              "      <td>False</td>\n",
              "    </tr>\n",
              "    <tr>\n",
              "      <th>3</th>\n",
              "      <td>CO</td>\n",
              "      <td>77</td>\n",
              "      <td>408</td>\n",
              "      <td>No</td>\n",
              "      <td>No</td>\n",
              "      <td>0</td>\n",
              "      <td>62.4</td>\n",
              "      <td>89</td>\n",
              "      <td>10.61</td>\n",
              "      <td>169.9</td>\n",
              "      <td>121</td>\n",
              "      <td>14.44</td>\n",
              "      <td>209.6</td>\n",
              "      <td>64</td>\n",
              "      <td>9.43</td>\n",
              "      <td>5.7</td>\n",
              "      <td>6</td>\n",
              "      <td>1.54</td>\n",
              "      <td>5</td>\n",
              "      <td>True</td>\n",
              "    </tr>\n",
              "    <tr>\n",
              "      <th>4</th>\n",
              "      <td>AZ</td>\n",
              "      <td>130</td>\n",
              "      <td>415</td>\n",
              "      <td>No</td>\n",
              "      <td>No</td>\n",
              "      <td>0</td>\n",
              "      <td>183.0</td>\n",
              "      <td>112</td>\n",
              "      <td>31.11</td>\n",
              "      <td>72.9</td>\n",
              "      <td>99</td>\n",
              "      <td>6.20</td>\n",
              "      <td>181.8</td>\n",
              "      <td>78</td>\n",
              "      <td>8.18</td>\n",
              "      <td>9.5</td>\n",
              "      <td>19</td>\n",
              "      <td>2.57</td>\n",
              "      <td>0</td>\n",
              "      <td>False</td>\n",
              "    </tr>\n",
              "    <tr>\n",
              "      <th>5</th>\n",
              "      <td>VA</td>\n",
              "      <td>132</td>\n",
              "      <td>510</td>\n",
              "      <td>No</td>\n",
              "      <td>No</td>\n",
              "      <td>0</td>\n",
              "      <td>81.1</td>\n",
              "      <td>86</td>\n",
              "      <td>13.79</td>\n",
              "      <td>245.2</td>\n",
              "      <td>72</td>\n",
              "      <td>20.84</td>\n",
              "      <td>237.0</td>\n",
              "      <td>115</td>\n",
              "      <td>10.67</td>\n",
              "      <td>10.3</td>\n",
              "      <td>2</td>\n",
              "      <td>2.78</td>\n",
              "      <td>0</td>\n",
              "      <td>False</td>\n",
              "    </tr>\n",
              "    <tr>\n",
              "      <th>6</th>\n",
              "      <td>NE</td>\n",
              "      <td>174</td>\n",
              "      <td>415</td>\n",
              "      <td>No</td>\n",
              "      <td>No</td>\n",
              "      <td>0</td>\n",
              "      <td>124.3</td>\n",
              "      <td>76</td>\n",
              "      <td>21.13</td>\n",
              "      <td>277.1</td>\n",
              "      <td>112</td>\n",
              "      <td>23.55</td>\n",
              "      <td>250.7</td>\n",
              "      <td>115</td>\n",
              "      <td>11.28</td>\n",
              "      <td>15.5</td>\n",
              "      <td>5</td>\n",
              "      <td>4.19</td>\n",
              "      <td>3</td>\n",
              "      <td>False</td>\n",
              "    </tr>\n",
              "    <tr>\n",
              "      <th>7</th>\n",
              "      <td>WY</td>\n",
              "      <td>57</td>\n",
              "      <td>408</td>\n",
              "      <td>No</td>\n",
              "      <td>Yes</td>\n",
              "      <td>39</td>\n",
              "      <td>213.0</td>\n",
              "      <td>115</td>\n",
              "      <td>36.21</td>\n",
              "      <td>191.1</td>\n",
              "      <td>112</td>\n",
              "      <td>16.24</td>\n",
              "      <td>182.7</td>\n",
              "      <td>115</td>\n",
              "      <td>8.22</td>\n",
              "      <td>9.5</td>\n",
              "      <td>3</td>\n",
              "      <td>2.57</td>\n",
              "      <td>0</td>\n",
              "      <td>False</td>\n",
              "    </tr>\n",
              "    <tr>\n",
              "      <th>8</th>\n",
              "      <td>MT</td>\n",
              "      <td>54</td>\n",
              "      <td>408</td>\n",
              "      <td>No</td>\n",
              "      <td>No</td>\n",
              "      <td>0</td>\n",
              "      <td>134.3</td>\n",
              "      <td>73</td>\n",
              "      <td>22.83</td>\n",
              "      <td>155.5</td>\n",
              "      <td>100</td>\n",
              "      <td>13.22</td>\n",
              "      <td>102.1</td>\n",
              "      <td>68</td>\n",
              "      <td>4.59</td>\n",
              "      <td>14.7</td>\n",
              "      <td>4</td>\n",
              "      <td>3.97</td>\n",
              "      <td>3</td>\n",
              "      <td>False</td>\n",
              "    </tr>\n",
              "    <tr>\n",
              "      <th>9</th>\n",
              "      <td>MO</td>\n",
              "      <td>20</td>\n",
              "      <td>415</td>\n",
              "      <td>No</td>\n",
              "      <td>No</td>\n",
              "      <td>0</td>\n",
              "      <td>190.0</td>\n",
              "      <td>109</td>\n",
              "      <td>32.30</td>\n",
              "      <td>258.2</td>\n",
              "      <td>84</td>\n",
              "      <td>21.95</td>\n",
              "      <td>181.5</td>\n",
              "      <td>102</td>\n",
              "      <td>8.17</td>\n",
              "      <td>6.3</td>\n",
              "      <td>6</td>\n",
              "      <td>1.70</td>\n",
              "      <td>0</td>\n",
              "      <td>False</td>\n",
              "    </tr>\n",
              "  </tbody>\n",
              "</table>\n",
              "</div>\n",
              "      <button class=\"colab-df-convert\" onclick=\"convertToInteractive('df-591b2be8-d379-4d26-b5fa-898827050f72')\"\n",
              "              title=\"Convert this dataframe to an interactive table.\"\n",
              "              style=\"display:none;\">\n",
              "        \n",
              "  <svg xmlns=\"http://www.w3.org/2000/svg\" height=\"24px\"viewBox=\"0 0 24 24\"\n",
              "       width=\"24px\">\n",
              "    <path d=\"M0 0h24v24H0V0z\" fill=\"none\"/>\n",
              "    <path d=\"M18.56 5.44l.94 2.06.94-2.06 2.06-.94-2.06-.94-.94-2.06-.94 2.06-2.06.94zm-11 1L8.5 8.5l.94-2.06 2.06-.94-2.06-.94L8.5 2.5l-.94 2.06-2.06.94zm10 10l.94 2.06.94-2.06 2.06-.94-2.06-.94-.94-2.06-.94 2.06-2.06.94z\"/><path d=\"M17.41 7.96l-1.37-1.37c-.4-.4-.92-.59-1.43-.59-.52 0-1.04.2-1.43.59L10.3 9.45l-7.72 7.72c-.78.78-.78 2.05 0 2.83L4 21.41c.39.39.9.59 1.41.59.51 0 1.02-.2 1.41-.59l7.78-7.78 2.81-2.81c.8-.78.8-2.07 0-2.86zM5.41 20L4 18.59l7.72-7.72 1.47 1.35L5.41 20z\"/>\n",
              "  </svg>\n",
              "      </button>\n",
              "      \n",
              "  <style>\n",
              "    .colab-df-container {\n",
              "      display:flex;\n",
              "      flex-wrap:wrap;\n",
              "      gap: 12px;\n",
              "    }\n",
              "\n",
              "    .colab-df-convert {\n",
              "      background-color: #E8F0FE;\n",
              "      border: none;\n",
              "      border-radius: 50%;\n",
              "      cursor: pointer;\n",
              "      display: none;\n",
              "      fill: #1967D2;\n",
              "      height: 32px;\n",
              "      padding: 0 0 0 0;\n",
              "      width: 32px;\n",
              "    }\n",
              "\n",
              "    .colab-df-convert:hover {\n",
              "      background-color: #E2EBFA;\n",
              "      box-shadow: 0px 1px 2px rgba(60, 64, 67, 0.3), 0px 1px 3px 1px rgba(60, 64, 67, 0.15);\n",
              "      fill: #174EA6;\n",
              "    }\n",
              "\n",
              "    [theme=dark] .colab-df-convert {\n",
              "      background-color: #3B4455;\n",
              "      fill: #D2E3FC;\n",
              "    }\n",
              "\n",
              "    [theme=dark] .colab-df-convert:hover {\n",
              "      background-color: #434B5C;\n",
              "      box-shadow: 0px 1px 3px 1px rgba(0, 0, 0, 0.15);\n",
              "      filter: drop-shadow(0px 1px 2px rgba(0, 0, 0, 0.3));\n",
              "      fill: #FFFFFF;\n",
              "    }\n",
              "  </style>\n",
              "\n",
              "      <script>\n",
              "        const buttonEl =\n",
              "          document.querySelector('#df-591b2be8-d379-4d26-b5fa-898827050f72 button.colab-df-convert');\n",
              "        buttonEl.style.display =\n",
              "          google.colab.kernel.accessAllowed ? 'block' : 'none';\n",
              "\n",
              "        async function convertToInteractive(key) {\n",
              "          const element = document.querySelector('#df-591b2be8-d379-4d26-b5fa-898827050f72');\n",
              "          const dataTable =\n",
              "            await google.colab.kernel.invokeFunction('convertToInteractive',\n",
              "                                                     [key], {});\n",
              "          if (!dataTable) return;\n",
              "\n",
              "          const docLinkHtml = 'Like what you see? Visit the ' +\n",
              "            '<a target=\"_blank\" href=https://colab.research.google.com/notebooks/data_table.ipynb>data table notebook</a>'\n",
              "            + ' to learn more about interactive tables.';\n",
              "          element.innerHTML = '';\n",
              "          dataTable['output_type'] = 'display_data';\n",
              "          await google.colab.output.renderOutput(dataTable, element);\n",
              "          const docLink = document.createElement('div');\n",
              "          docLink.innerHTML = docLinkHtml;\n",
              "          element.appendChild(docLink);\n",
              "        }\n",
              "      </script>\n",
              "    </div>\n",
              "  </div>\n",
              "  "
            ],
            "text/plain": [
              "  State  Account length  ...  Customer service calls  Churn\n",
              "0    VA              76  ...                       1  False\n",
              "1    TX              73  ...                       1  False\n",
              "2    FL             147  ...                       0  False\n",
              "3    CO              77  ...                       5   True\n",
              "4    AZ             130  ...                       0  False\n",
              "5    VA             132  ...                       0  False\n",
              "6    NE             174  ...                       3  False\n",
              "7    WY              57  ...                       0  False\n",
              "8    MT              54  ...                       3  False\n",
              "9    MO              20  ...                       0  False\n",
              "\n",
              "[10 rows x 20 columns]"
            ]
          },
          "metadata": {},
          "execution_count": 16
        }
      ]
    },
    {
      "cell_type": "markdown",
      "metadata": {
        "id": "HPsuLzLfQAfj"
      },
      "source": [
        "## Machine learning"
      ]
    },
    {
      "cell_type": "code",
      "metadata": {
        "id": "x_u_DrLfMwKt"
      },
      "source": [
        "# Removemos the State , Area code , Total day charge , Total eve charge , Total night charge and Total intl charge\n",
        "CV_data = CV_data.drop('State').drop('Area code') \\\n",
        "    .drop('Total day charge').drop('Total eve charge') \\\n",
        "    .drop('Total night charge').drop('Total intl charge')"
      ],
      "execution_count": null,
      "outputs": []
    },
    {
      "cell_type": "code",
      "metadata": {
        "id": "K0-lIrLpQJQX"
      },
      "source": [
        "#Transforms 'Yes' and 'No' to '1.0' or '0.0'\n",
        "def transform1(value):\n",
        "    result=-1.0\n",
        "    if value=='Yes':\n",
        "        result=1.0\n",
        "    if value=='No':\n",
        "        result=0.0\n",
        "    return result"
      ],
      "execution_count": null,
      "outputs": []
    },
    {
      "cell_type": "code",
      "source": [
        "from pyspark.sql.functions import udf\n",
        "from pyspark.sql.types import DoubleType\n",
        "\n",
        "transform1_udf = udf(lambda k: transform1(k), DoubleType())"
      ],
      "metadata": {
        "id": "ORbiN598yMq3"
      },
      "execution_count": null,
      "outputs": []
    },
    {
      "cell_type": "code",
      "source": [
        "# Se aplica withcolumn\n",
        "CV_data = CV_data.withColumn('International plan', transform1_udf(CV_data['International plan'])) \\\n",
        "    .withColumn('Voice mail plan', transform1_udf(CV_data['Voice mail plan'])).cache()"
      ],
      "metadata": {
        "id": "MtoBqvu9yMtW"
      },
      "execution_count": null,
      "outputs": []
    },
    {
      "cell_type": "code",
      "source": [
        "#Transforms 'Yes' and 'No' to '1.0' or '0.0'\n",
        "def transform2(value):\n",
        "    dic={False: 0.0, True:1.0}\n",
        "    return dic[value]\n",
        "\n",
        "transform2_udf= udf(lambda k: transform2(k), DoubleType())\n",
        "\n",
        "CV_data=CV_data.withColumn('Churn', transform2_udf(CV_data['Churn'])).cache()"
      ],
      "metadata": {
        "id": "VeOoI6GyyMyr"
      },
      "execution_count": null,
      "outputs": []
    },
    {
      "cell_type": "code",
      "source": [
        "# Muestro los cambios\n",
        "pd.DataFrame(CV_data.take(5), columns=CV_data.columns)"
      ],
      "metadata": {
        "colab": {
          "base_uri": "https://localhost:8080/",
          "height": 285
        },
        "id": "JMfHHGZMyM1F",
        "outputId": "4eacb4b5-2065-4b18-8b78-09e1700aacb1"
      },
      "execution_count": null,
      "outputs": [
        {
          "output_type": "execute_result",
          "data": {
            "text/html": [
              "\n",
              "  <div id=\"df-ccb2004d-76f8-43c5-b018-1e4b0e1e4fbc\">\n",
              "    <div class=\"colab-df-container\">\n",
              "      <div>\n",
              "<style scoped>\n",
              "    .dataframe tbody tr th:only-of-type {\n",
              "        vertical-align: middle;\n",
              "    }\n",
              "\n",
              "    .dataframe tbody tr th {\n",
              "        vertical-align: top;\n",
              "    }\n",
              "\n",
              "    .dataframe thead th {\n",
              "        text-align: right;\n",
              "    }\n",
              "</style>\n",
              "<table border=\"1\" class=\"dataframe\">\n",
              "  <thead>\n",
              "    <tr style=\"text-align: right;\">\n",
              "      <th></th>\n",
              "      <th>Account length</th>\n",
              "      <th>International plan</th>\n",
              "      <th>Voice mail plan</th>\n",
              "      <th>Number vmail messages</th>\n",
              "      <th>Total day minutes</th>\n",
              "      <th>Total day calls</th>\n",
              "      <th>Total eve minutes</th>\n",
              "      <th>Total eve calls</th>\n",
              "      <th>Total night minutes</th>\n",
              "      <th>Total night calls</th>\n",
              "      <th>Total intl minutes</th>\n",
              "      <th>Total intl calls</th>\n",
              "      <th>Customer service calls</th>\n",
              "      <th>Churn</th>\n",
              "    </tr>\n",
              "  </thead>\n",
              "  <tbody>\n",
              "    <tr>\n",
              "      <th>0</th>\n",
              "      <td>128</td>\n",
              "      <td>0.0</td>\n",
              "      <td>1.0</td>\n",
              "      <td>25</td>\n",
              "      <td>265.1</td>\n",
              "      <td>110</td>\n",
              "      <td>197.4</td>\n",
              "      <td>99</td>\n",
              "      <td>244.7</td>\n",
              "      <td>91</td>\n",
              "      <td>10.0</td>\n",
              "      <td>3</td>\n",
              "      <td>1</td>\n",
              "      <td>0.0</td>\n",
              "    </tr>\n",
              "    <tr>\n",
              "      <th>1</th>\n",
              "      <td>107</td>\n",
              "      <td>0.0</td>\n",
              "      <td>1.0</td>\n",
              "      <td>26</td>\n",
              "      <td>161.6</td>\n",
              "      <td>123</td>\n",
              "      <td>195.5</td>\n",
              "      <td>103</td>\n",
              "      <td>254.4</td>\n",
              "      <td>103</td>\n",
              "      <td>13.7</td>\n",
              "      <td>3</td>\n",
              "      <td>1</td>\n",
              "      <td>0.0</td>\n",
              "    </tr>\n",
              "    <tr>\n",
              "      <th>2</th>\n",
              "      <td>137</td>\n",
              "      <td>0.0</td>\n",
              "      <td>0.0</td>\n",
              "      <td>0</td>\n",
              "      <td>243.4</td>\n",
              "      <td>114</td>\n",
              "      <td>121.2</td>\n",
              "      <td>110</td>\n",
              "      <td>162.6</td>\n",
              "      <td>104</td>\n",
              "      <td>12.2</td>\n",
              "      <td>5</td>\n",
              "      <td>0</td>\n",
              "      <td>0.0</td>\n",
              "    </tr>\n",
              "    <tr>\n",
              "      <th>3</th>\n",
              "      <td>84</td>\n",
              "      <td>1.0</td>\n",
              "      <td>0.0</td>\n",
              "      <td>0</td>\n",
              "      <td>299.4</td>\n",
              "      <td>71</td>\n",
              "      <td>61.9</td>\n",
              "      <td>88</td>\n",
              "      <td>196.9</td>\n",
              "      <td>89</td>\n",
              "      <td>6.6</td>\n",
              "      <td>7</td>\n",
              "      <td>2</td>\n",
              "      <td>0.0</td>\n",
              "    </tr>\n",
              "    <tr>\n",
              "      <th>4</th>\n",
              "      <td>75</td>\n",
              "      <td>1.0</td>\n",
              "      <td>0.0</td>\n",
              "      <td>0</td>\n",
              "      <td>166.7</td>\n",
              "      <td>113</td>\n",
              "      <td>148.3</td>\n",
              "      <td>122</td>\n",
              "      <td>186.9</td>\n",
              "      <td>121</td>\n",
              "      <td>10.1</td>\n",
              "      <td>3</td>\n",
              "      <td>3</td>\n",
              "      <td>0.0</td>\n",
              "    </tr>\n",
              "  </tbody>\n",
              "</table>\n",
              "</div>\n",
              "      <button class=\"colab-df-convert\" onclick=\"convertToInteractive('df-ccb2004d-76f8-43c5-b018-1e4b0e1e4fbc')\"\n",
              "              title=\"Convert this dataframe to an interactive table.\"\n",
              "              style=\"display:none;\">\n",
              "        \n",
              "  <svg xmlns=\"http://www.w3.org/2000/svg\" height=\"24px\"viewBox=\"0 0 24 24\"\n",
              "       width=\"24px\">\n",
              "    <path d=\"M0 0h24v24H0V0z\" fill=\"none\"/>\n",
              "    <path d=\"M18.56 5.44l.94 2.06.94-2.06 2.06-.94-2.06-.94-.94-2.06-.94 2.06-2.06.94zm-11 1L8.5 8.5l.94-2.06 2.06-.94-2.06-.94L8.5 2.5l-.94 2.06-2.06.94zm10 10l.94 2.06.94-2.06 2.06-.94-2.06-.94-.94-2.06-.94 2.06-2.06.94z\"/><path d=\"M17.41 7.96l-1.37-1.37c-.4-.4-.92-.59-1.43-.59-.52 0-1.04.2-1.43.59L10.3 9.45l-7.72 7.72c-.78.78-.78 2.05 0 2.83L4 21.41c.39.39.9.59 1.41.59.51 0 1.02-.2 1.41-.59l7.78-7.78 2.81-2.81c.8-.78.8-2.07 0-2.86zM5.41 20L4 18.59l7.72-7.72 1.47 1.35L5.41 20z\"/>\n",
              "  </svg>\n",
              "      </button>\n",
              "      \n",
              "  <style>\n",
              "    .colab-df-container {\n",
              "      display:flex;\n",
              "      flex-wrap:wrap;\n",
              "      gap: 12px;\n",
              "    }\n",
              "\n",
              "    .colab-df-convert {\n",
              "      background-color: #E8F0FE;\n",
              "      border: none;\n",
              "      border-radius: 50%;\n",
              "      cursor: pointer;\n",
              "      display: none;\n",
              "      fill: #1967D2;\n",
              "      height: 32px;\n",
              "      padding: 0 0 0 0;\n",
              "      width: 32px;\n",
              "    }\n",
              "\n",
              "    .colab-df-convert:hover {\n",
              "      background-color: #E2EBFA;\n",
              "      box-shadow: 0px 1px 2px rgba(60, 64, 67, 0.3), 0px 1px 3px 1px rgba(60, 64, 67, 0.15);\n",
              "      fill: #174EA6;\n",
              "    }\n",
              "\n",
              "    [theme=dark] .colab-df-convert {\n",
              "      background-color: #3B4455;\n",
              "      fill: #D2E3FC;\n",
              "    }\n",
              "\n",
              "    [theme=dark] .colab-df-convert:hover {\n",
              "      background-color: #434B5C;\n",
              "      box-shadow: 0px 1px 3px 1px rgba(0, 0, 0, 0.15);\n",
              "      filter: drop-shadow(0px 1px 2px rgba(0, 0, 0, 0.3));\n",
              "      fill: #FFFFFF;\n",
              "    }\n",
              "  </style>\n",
              "\n",
              "      <script>\n",
              "        const buttonEl =\n",
              "          document.querySelector('#df-ccb2004d-76f8-43c5-b018-1e4b0e1e4fbc button.colab-df-convert');\n",
              "        buttonEl.style.display =\n",
              "          google.colab.kernel.accessAllowed ? 'block' : 'none';\n",
              "\n",
              "        async function convertToInteractive(key) {\n",
              "          const element = document.querySelector('#df-ccb2004d-76f8-43c5-b018-1e4b0e1e4fbc');\n",
              "          const dataTable =\n",
              "            await google.colab.kernel.invokeFunction('convertToInteractive',\n",
              "                                                     [key], {});\n",
              "          if (!dataTable) return;\n",
              "\n",
              "          const docLinkHtml = 'Like what you see? Visit the ' +\n",
              "            '<a target=\"_blank\" href=https://colab.research.google.com/notebooks/data_table.ipynb>data table notebook</a>'\n",
              "            + ' to learn more about interactive tables.';\n",
              "          element.innerHTML = '';\n",
              "          dataTable['output_type'] = 'display_data';\n",
              "          await google.colab.output.renderOutput(dataTable, element);\n",
              "          const docLink = document.createElement('div');\n",
              "          docLink.innerHTML = docLinkHtml;\n",
              "          element.appendChild(docLink);\n",
              "        }\n",
              "      </script>\n",
              "    </div>\n",
              "  </div>\n",
              "  "
            ],
            "text/plain": [
              "   Account length  International plan  ...  Customer service calls  Churn\n",
              "0             128                 0.0  ...                       1    0.0\n",
              "1             107                 0.0  ...                       1    0.0\n",
              "2             137                 0.0  ...                       0    0.0\n",
              "3              84                 1.0  ...                       2    0.0\n",
              "4              75                 1.0  ...                       3    0.0\n",
              "\n",
              "[5 rows x 14 columns]"
            ]
          },
          "metadata": {},
          "execution_count": 22
        }
      ]
    },
    {
      "cell_type": "code",
      "source": [
        "# APlico MLIB - Basado en RDD"
      ],
      "metadata": {
        "id": "rLU2qft2yRdi"
      },
      "execution_count": null,
      "outputs": []
    },
    {
      "cell_type": "code",
      "source": [
        "# Arboles de decision"
      ],
      "metadata": {
        "id": "gYoiC-gfyRgZ"
      },
      "execution_count": null,
      "outputs": []
    },
    {
      "cell_type": "code",
      "source": [
        "from pyspark.mllib.regression import LabeledPoint\n",
        "from pyspark.mllib.tree import DecisionTree\n",
        "\n",
        "def labelData(data):\n",
        "    # label: row[end], features: row[0:end-1]\n",
        "    return data.map(lambda row: LabeledPoint(row[-1], row[:-1]))\n",
        "\n",
        "training_data, testing_data = labelData(CV_data.rdd).randomSplit([0.8, 0.2])\n",
        "\n",
        "model = DecisionTree.trainClassifier(training_data, numClasses=2, maxDepth=2,\n",
        "                                     categoricalFeaturesInfo={1:2, 2:2},\n",
        "                                     impurity='gini', maxBins=32)\n",
        "\n",
        "print(model.toDebugString())"
      ],
      "metadata": {
        "colab": {
          "base_uri": "https://localhost:8080/"
        },
        "id": "mxmIfSfiyRjd",
        "outputId": "a2b7a4bb-eecf-440a-94f7-3d25cd5efd40"
      },
      "execution_count": null,
      "outputs": [
        {
          "output_type": "stream",
          "name": "stdout",
          "text": [
            "DecisionTreeModel classifier of depth 2 with 7 nodes\n",
            "  If (feature 4 <= 264.4)\n",
            "   If (feature 12 <= 3.5)\n",
            "    Predict: 0.0\n",
            "   Else (feature 12 > 3.5)\n",
            "    Predict: 1.0\n",
            "  Else (feature 4 > 264.4)\n",
            "   If (feature 2 in {1.0})\n",
            "    Predict: 0.0\n",
            "   Else (feature 2 not in {1.0})\n",
            "    Predict: 1.0\n",
            "\n"
          ]
        }
      ]
    },
    {
      "cell_type": "code",
      "source": [
        "print('Feature 12:', CV_data.columns[12])\n",
        "print('Feature 4: ', CV_data.columns[4])\n",
        "print('Feature 2: ', CV_data.columns[2])"
      ],
      "metadata": {
        "colab": {
          "base_uri": "https://localhost:8080/"
        },
        "id": "3ZYu8pxUyRmd",
        "outputId": "175bd51a-2576-40e8-85bd-4d4351934546"
      },
      "execution_count": null,
      "outputs": [
        {
          "output_type": "stream",
          "name": "stdout",
          "text": [
            "Feature 12: Customer service calls\n",
            "Feature 4:  Total day minutes\n",
            "Feature 2:  Voice mail plan\n"
          ]
        }
      ]
    },
    {
      "cell_type": "code",
      "source": [
        "# Estructura\n",
        "datapoint = training_data.take(1)[0]\n",
        "print(datapoint.features) \n",
        "print(datapoint.label) "
      ],
      "metadata": {
        "colab": {
          "base_uri": "https://localhost:8080/"
        },
        "id": "rDREMtNLyYnX",
        "outputId": "29f7ff79-8bd6-4058-bea5-347ef27bf81e"
      },
      "execution_count": null,
      "outputs": [
        {
          "output_type": "stream",
          "name": "stdout",
          "text": [
            "[128.0,0.0,1.0,25.0,265.1,110.0,197.4,99.0,244.7,91.0,10.0,3.0,1.0]\n",
            "0.0\n"
          ]
        }
      ]
    },
    {
      "cell_type": "code",
      "source": [
        "# Evaluamos el modelo"
      ],
      "metadata": {
        "id": "Gty5b2Oxya4J"
      },
      "execution_count": null,
      "outputs": []
    },
    {
      "cell_type": "code",
      "source": [
        "from pyspark.mllib.evaluation import MulticlassMetrics\n",
        "\n",
        "def getPredictionsLabels(model, test_data):\n",
        "    predictions = model.predict(test_data.map(lambda r: r.features))\n",
        "    return predictions.zip(test_data.map(lambda r: r.label))\n",
        "\n",
        "def printMetrics(predictions_and_labels):\n",
        "    metrics = MulticlassMetrics(predictions_and_labels)\n",
        "    print('Precision of True '+ str(metrics.precision(1)))\n",
        "    print('Precision of False'+ str(metrics.precision(0)))\n",
        "    print('Recall of True    '+ str(metrics.recall(1)))\n",
        "    print('Recall of False   '+ str(metrics.recall(0)))\n",
        "    print('F-1 Score         '+ str(metrics.fMeasure(1.0)))\n",
        "    print('Confusion Matrix\\n'+ str(metrics.confusionMatrix().toArray()))\n",
        "\n",
        "predictions_and_labels = getPredictionsLabels(model, testing_data)\n",
        "\n",
        "printMetrics(predictions_and_labels)"
      ],
      "metadata": {
        "colab": {
          "base_uri": "https://localhost:8080/"
        },
        "id": "1z7ittJbydRS",
        "outputId": "e4e6c108-5694-4178-c606-a57f005ef3d3"
      },
      "execution_count": null,
      "outputs": [
        {
          "output_type": "stream",
          "name": "stderr",
          "text": [
            "/usr/local/lib/python3.7/dist-packages/pyspark/sql/context.py:127: FutureWarning: Deprecated in 3.0.0. Use SparkSession.builder.getOrCreate() instead.\n",
            "  FutureWarning\n"
          ]
        },
        {
          "output_type": "stream",
          "name": "stdout",
          "text": [
            "Precision of True 0.6285714285714286\n",
            "Precision of False0.9115913555992141\n",
            "Recall of True    0.4943820224719101\n",
            "Recall of False   0.9469387755102041\n",
            "F-1 Score         0.5534591194968553\n",
            "Confusion Matrix\n",
            "[[464.  26.]\n",
            " [ 45.  44.]]\n"
          ]
        }
      ]
    },
    {
      "cell_type": "code",
      "source": [
        ""
      ],
      "metadata": {
        "id": "V2u6AhY9yemE"
      },
      "execution_count": null,
      "outputs": []
    }
  ]
}